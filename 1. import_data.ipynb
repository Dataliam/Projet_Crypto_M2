{
 "cells": [
  {
   "cell_type": "markdown",
   "metadata": {},
   "source": [
    "#Recupération des données de l'éthereum depuis 2021 "
   ]
  },
  {
   "cell_type": "code",
   "execution_count": 2,
   "metadata": {},
   "outputs": [],
   "source": [
    "import os\n",
    "\n",
    "# Définir le chemin du dossier\n",
    "chemin = r\"C:\\Users\\Liam\\Desktop\\Projet crypto\\Data\\\\\"\n",
    "\n",
    "# S'assurer que le dossier existe avant l'export\n",
    "os.makedirs(chemin, exist_ok=True)\n"
   ]
  },
  {
   "cell_type": "code",
   "execution_count": null,
   "metadata": {},
   "outputs": [
    {
     "name": "stdout",
     "output_type": "stream",
     "text": [
      "                 timestamp     open     high      low    close     volume\n",
      "411175 2025-02-27 07:35:00  2358.62  2373.20  2358.62  2364.32  3226.3830\n",
      "411176 2025-02-27 07:40:00  2364.32  2369.73  2363.30  2364.59  2070.9754\n",
      "411177 2025-02-27 07:45:00  2364.59  2368.17  2361.41  2361.73  1598.0733\n",
      "411178 2025-02-27 07:50:00  2361.72  2366.13  2361.00  2363.19  1027.6413\n",
      "411179 2025-02-27 07:55:00  2363.18  2364.26  2356.12  2356.13  2080.7507\n",
      "411180 2025-02-27 08:00:00  2356.13  2356.81  2352.01  2355.92  1315.2119\n",
      "411181 2025-02-27 08:05:00  2355.91  2361.27  2354.71  2357.09   974.5593\n",
      "411182 2025-02-27 08:10:00  2357.10  2359.40  2354.28  2356.65   910.0949\n",
      "411183 2025-02-27 08:15:00  2356.66  2359.10  2352.76  2354.81  1580.6899\n",
      "411184 2025-02-27 08:20:00  2354.81  2356.79  2354.44  2355.96   403.6277\n"
     ]
    }
   ],
   "source": [
    "import ccxt\n",
    "import pandas as pd\n",
    "import time\n",
    "\n",
    "# Connexion à Binance\n",
    "exchange = ccxt.binance()\n",
    "\n",
    "# Paramètres\n",
    "symbol = \"ETH/USDT\"\n",
    "timeframe = \"5m\"  # Intervalle de temps (ex: 1h)\n",
    "since = exchange.parse8601(\"2021-04-01T00:00:00Z\")\n",
    "sma_short = 10  # Période courte\n",
    "sma_long = 50   # Période longue\n",
    "\n",
    "# Fonction pour récupérer les données historiques\n",
    "def fetch_ohlcv(symbol, timeframe, since):\n",
    "    all_candles = []\n",
    "    while True:\n",
    "        candles = exchange.fetch_ohlcv(symbol, timeframe, since, limit=500)\n",
    "        if not candles:\n",
    "            break\n",
    "        all_candles.extend(candles)\n",
    "        since = candles[-1][0] + 1\n",
    "        time.sleep(1)\n",
    "    return all_candles\n",
    "\n",
    "# Récupérer les données OHLCV\n",
    "ohlcv = fetch_ohlcv(symbol, timeframe, since)\n",
    "\n",
    "# Convertir en DataFrame\n",
    "df = pd.DataFrame(ohlcv, columns=[\"timestamp\", \"open\", \"high\", \"low\", \"close\", \"volume\"])\n",
    "df[\"timestamp\"] = pd.to_datetime(df[\"timestamp\"], unit=\"ms\")\n",
    "\n",
    "\n",
    "# Afficher les 10 dernières lignes\n",
    "print(df.tail(10))"
   ]
  },
  {
   "cell_type": "code",
   "execution_count": 3,
   "metadata": {},
   "outputs": [
    {
     "name": "stdout",
     "output_type": "stream",
     "text": [
      "Fichier exporté avec succès : C:\\Users\\Liam\\Desktop\\Projet crypto\\Data\\\\df_export.csv\n"
     ]
    }
   ],
   "source": [
    "# Exporter le DataFrame en CSV avec le nom du fichier ajouté au chemin\n",
    "df.to_csv(chemin + \"df_export.csv\", index=False)\n",
    "\n",
    "print(f\"Fichier exporté avec succès : {chemin}df_export.csv\")\n"
   ]
  }
 ],
 "metadata": {
  "kernelspec": {
   "display_name": "Python 3",
   "language": "python",
   "name": "python3"
  },
  "language_info": {
   "codemirror_mode": {
    "name": "ipython",
    "version": 3
   },
   "file_extension": ".py",
   "mimetype": "text/x-python",
   "name": "python",
   "nbconvert_exporter": "python",
   "pygments_lexer": "ipython3",
   "version": "3.13.0"
  }
 },
 "nbformat": 4,
 "nbformat_minor": 2
}
