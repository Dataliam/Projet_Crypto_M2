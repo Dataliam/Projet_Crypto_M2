{
 "cells": [
  {
   "cell_type": "code",
   "execution_count": 1,
   "metadata": {},
   "outputs": [
    {
     "name": "stdout",
     "output_type": "stream",
     "text": [
      "             timestamp     open     high      low    close      volume\n",
      "0  2021-04-01 00:00:00  1919.37  1937.82  1919.37  1934.49  5054.95614\n",
      "1  2021-04-01 00:05:00  1935.24  1935.25  1927.86  1927.90  1884.79818\n",
      "2  2021-04-01 00:10:00  1927.92  1929.63  1923.41  1926.55  2004.92272\n",
      "3  2021-04-01 00:15:00  1926.55  1928.76  1924.00  1924.80  1469.64577\n",
      "4  2021-04-01 00:20:00  1924.80  1929.78  1924.28  1928.29  1760.55796\n"
     ]
    }
   ],
   "source": [
    "import pandas as pd\n",
    "\n",
    "# Définir le chemin du fichier\n",
    "chemin = r\"C:\\Users\\Liam\\Desktop\\Projet crypto\\Data\\df_export.csv\"\n",
    "\n",
    "# Importer le DataFrame\n",
    "df = pd.read_csv(chemin)\n",
    "\n",
    "# Afficher les premières lignes pour vérifier\n",
    "print(df.head())\n"
   ]
  },
  {
   "cell_type": "markdown",
   "metadata": {},
   "source": [
    "Création d'une base test et train"
   ]
  },
  {
   "cell_type": "code",
   "execution_count": 3,
   "metadata": {},
   "outputs": [],
   "source": [
    "# Convertir la colonne timestamp en datetime\n",
    "df[\"timestamp\"] = pd.to_datetime(df[\"timestamp\"])\n",
    "# Séparer le dataset en deux : avant et après août 2024\n",
    "train_start = pd.to_datetime(\"2021-04-01\")\n",
    "train_end = pd.to_datetime(\"2024-01-01\")\n",
    "test_start = pd.to_datetime(\"2024-01-01\")\n",
    "test_end = pd.to_datetime(\"2025-02-26\")  # Jusqu'à aujourd'hui\n",
    "\n",
    "# Séparer les données d'entraînement et de test\n",
    "train_df = df[(df[\"timestamp\"] >= train_start) & (df[\"timestamp\"] < train_end)]\n",
    "test_df = df[(df[\"timestamp\"] >= test_start) & (df[\"timestamp\"] <= test_end)]"
   ]
  },
  {
   "cell_type": "code",
   "execution_count": 9,
   "metadata": {},
   "outputs": [],
   "source": [
    "import pandas as pd\n",
    "import numpy as np\n",
    "\n",
    "# Fonction pour calculer le RSI\n",
    "def compute_rsi(series, window=14):\n",
    "    delta = series.diff()\n",
    "    gain = (delta.where(delta > 0, 0)).rolling(window=window).mean()\n",
    "    loss = (-delta.where(delta < 0, 0)).rolling(window=window).mean()\n",
    "    rs = gain / loss\n",
    "    return 100 - (100 / (1 + rs))\n",
    "\n",
    "# Fonction pour calculer le MACD\n",
    "def compute_macd(series, short_window=12, long_window=26, signal_window=9):\n",
    "    short_ema = series.ewm(span=short_window, min_periods=1).mean()\n",
    "    long_ema = series.ewm(span=long_window, min_periods=1).mean()\n",
    "    macd = short_ema - long_ema\n",
    "    macd_signal = macd.ewm(span=signal_window, min_periods=1).mean()\n",
    "    return macd, macd_signal\n",
    "\n",
    "# Fonction pour calculer l'ATR\n",
    "def compute_atr(train_df, window=14):\n",
    "    high_low = train_df[\"high\"] - train_df[\"low\"]\n",
    "    high_close = np.abs(train_df[\"high\"] - train_df[\"close\"].shift())\n",
    "    low_close = np.abs(train_df[\"low\"] - train_df[\"close\"].shift())\n",
    "    tr = pd.DataFrame({\"high_low\": high_low, \"high_close\": high_close, \"low_close\": low_close}).max(axis=1)\n",
    "    return tr.rolling(window=window).mean()\n",
    "\n",
    "# Fonction pour calculer les autres indicateurs\n",
    "def compute_indicators(train_df):\n",
    "    train_df[\"rsi\"] = compute_rsi(train_df[\"close\"], window=14)\n",
    "    train_df[\"macd\"], train_df[\"macd_signal\"] = compute_macd(train_df[\"close\"])\n",
    "    train_df[\"atr\"] = compute_atr(train_df)\n",
    "    train_df[\"volatility_20d\"] = train_df[\"close\"].pct_change().rolling(20).std()\n",
    "    train_df[\"roc_5\"] = train_df[\"close\"].pct_change(5)\n",
    "    train_df[\"roc_10\"] = train_df[\"close\"].pct_change(10)\n",
    "    return train_df\n"
   ]
  },
  {
   "cell_type": "code",
   "execution_count": 10,
   "metadata": {},
   "outputs": [
    {
     "name": "stderr",
     "output_type": "stream",
     "text": [
      "C:\\Users\\Liam\\AppData\\Local\\Temp\\ipykernel_13192\\2041586868.py:30: SettingWithCopyWarning: \n",
      "A value is trying to be set on a copy of a slice from a DataFrame.\n",
      "Try using .loc[row_indexer,col_indexer] = value instead\n",
      "\n",
      "See the caveats in the documentation: https://pandas.pydata.org/pandas-docs/stable/user_guide/indexing.html#returning-a-view-versus-a-copy\n",
      "  train_df[\"rsi\"] = compute_rsi(train_df[\"close\"], window=14)\n",
      "C:\\Users\\Liam\\AppData\\Local\\Temp\\ipykernel_13192\\2041586868.py:31: SettingWithCopyWarning: \n",
      "A value is trying to be set on a copy of a slice from a DataFrame.\n",
      "Try using .loc[row_indexer,col_indexer] = value instead\n",
      "\n",
      "See the caveats in the documentation: https://pandas.pydata.org/pandas-docs/stable/user_guide/indexing.html#returning-a-view-versus-a-copy\n",
      "  train_df[\"macd\"], train_df[\"macd_signal\"] = compute_macd(train_df[\"close\"])\n",
      "C:\\Users\\Liam\\AppData\\Local\\Temp\\ipykernel_13192\\2041586868.py:32: SettingWithCopyWarning: \n",
      "A value is trying to be set on a copy of a slice from a DataFrame.\n",
      "Try using .loc[row_indexer,col_indexer] = value instead\n",
      "\n",
      "See the caveats in the documentation: https://pandas.pydata.org/pandas-docs/stable/user_guide/indexing.html#returning-a-view-versus-a-copy\n",
      "  train_df[\"atr\"] = compute_atr(train_df)\n",
      "C:\\Users\\Liam\\AppData\\Local\\Temp\\ipykernel_13192\\2041586868.py:33: SettingWithCopyWarning: \n",
      "A value is trying to be set on a copy of a slice from a DataFrame.\n",
      "Try using .loc[row_indexer,col_indexer] = value instead\n",
      "\n",
      "See the caveats in the documentation: https://pandas.pydata.org/pandas-docs/stable/user_guide/indexing.html#returning-a-view-versus-a-copy\n",
      "  train_df[\"volatility_20d\"] = train_df[\"close\"].pct_change().rolling(20).std()\n",
      "C:\\Users\\Liam\\AppData\\Local\\Temp\\ipykernel_13192\\2041586868.py:34: SettingWithCopyWarning: \n",
      "A value is trying to be set on a copy of a slice from a DataFrame.\n",
      "Try using .loc[row_indexer,col_indexer] = value instead\n",
      "\n",
      "See the caveats in the documentation: https://pandas.pydata.org/pandas-docs/stable/user_guide/indexing.html#returning-a-view-versus-a-copy\n",
      "  train_df[\"roc_5\"] = train_df[\"close\"].pct_change(5)\n",
      "C:\\Users\\Liam\\AppData\\Local\\Temp\\ipykernel_13192\\2041586868.py:35: SettingWithCopyWarning: \n",
      "A value is trying to be set on a copy of a slice from a DataFrame.\n",
      "Try using .loc[row_indexer,col_indexer] = value instead\n",
      "\n",
      "See the caveats in the documentation: https://pandas.pydata.org/pandas-docs/stable/user_guide/indexing.html#returning-a-view-versus-a-copy\n",
      "  train_df[\"roc_10\"] = train_df[\"close\"].pct_change(10)\n",
      "C:\\Users\\Liam\\AppData\\Local\\Temp\\ipykernel_13192\\2041586868.py:30: SettingWithCopyWarning: \n",
      "A value is trying to be set on a copy of a slice from a DataFrame.\n",
      "Try using .loc[row_indexer,col_indexer] = value instead\n",
      "\n",
      "See the caveats in the documentation: https://pandas.pydata.org/pandas-docs/stable/user_guide/indexing.html#returning-a-view-versus-a-copy\n",
      "  train_df[\"rsi\"] = compute_rsi(train_df[\"close\"], window=14)\n",
      "C:\\Users\\Liam\\AppData\\Local\\Temp\\ipykernel_13192\\2041586868.py:31: SettingWithCopyWarning: \n",
      "A value is trying to be set on a copy of a slice from a DataFrame.\n",
      "Try using .loc[row_indexer,col_indexer] = value instead\n",
      "\n",
      "See the caveats in the documentation: https://pandas.pydata.org/pandas-docs/stable/user_guide/indexing.html#returning-a-view-versus-a-copy\n",
      "  train_df[\"macd\"], train_df[\"macd_signal\"] = compute_macd(train_df[\"close\"])\n",
      "C:\\Users\\Liam\\AppData\\Local\\Temp\\ipykernel_13192\\2041586868.py:31: SettingWithCopyWarning: \n",
      "A value is trying to be set on a copy of a slice from a DataFrame.\n",
      "Try using .loc[row_indexer,col_indexer] = value instead\n",
      "\n",
      "See the caveats in the documentation: https://pandas.pydata.org/pandas-docs/stable/user_guide/indexing.html#returning-a-view-versus-a-copy\n",
      "  train_df[\"macd\"], train_df[\"macd_signal\"] = compute_macd(train_df[\"close\"])\n",
      "C:\\Users\\Liam\\AppData\\Local\\Temp\\ipykernel_13192\\2041586868.py:32: SettingWithCopyWarning: \n",
      "A value is trying to be set on a copy of a slice from a DataFrame.\n",
      "Try using .loc[row_indexer,col_indexer] = value instead\n",
      "\n",
      "See the caveats in the documentation: https://pandas.pydata.org/pandas-docs/stable/user_guide/indexing.html#returning-a-view-versus-a-copy\n",
      "  train_df[\"atr\"] = compute_atr(train_df)\n",
      "C:\\Users\\Liam\\AppData\\Local\\Temp\\ipykernel_13192\\2041586868.py:33: SettingWithCopyWarning: \n",
      "A value is trying to be set on a copy of a slice from a DataFrame.\n",
      "Try using .loc[row_indexer,col_indexer] = value instead\n",
      "\n",
      "See the caveats in the documentation: https://pandas.pydata.org/pandas-docs/stable/user_guide/indexing.html#returning-a-view-versus-a-copy\n",
      "  train_df[\"volatility_20d\"] = train_df[\"close\"].pct_change().rolling(20).std()\n",
      "C:\\Users\\Liam\\AppData\\Local\\Temp\\ipykernel_13192\\2041586868.py:34: SettingWithCopyWarning: \n",
      "A value is trying to be set on a copy of a slice from a DataFrame.\n",
      "Try using .loc[row_indexer,col_indexer] = value instead\n",
      "\n",
      "See the caveats in the documentation: https://pandas.pydata.org/pandas-docs/stable/user_guide/indexing.html#returning-a-view-versus-a-copy\n",
      "  train_df[\"roc_5\"] = train_df[\"close\"].pct_change(5)\n",
      "C:\\Users\\Liam\\AppData\\Local\\Temp\\ipykernel_13192\\2041586868.py:35: SettingWithCopyWarning: \n",
      "A value is trying to be set on a copy of a slice from a DataFrame.\n",
      "Try using .loc[row_indexer,col_indexer] = value instead\n",
      "\n",
      "See the caveats in the documentation: https://pandas.pydata.org/pandas-docs/stable/user_guide/indexing.html#returning-a-view-versus-a-copy\n",
      "  train_df[\"roc_10\"] = train_df[\"close\"].pct_change(10)\n"
     ]
    }
   ],
   "source": [
    "# Appliquer les indicateurs techniques\n",
    "train_df = compute_indicators(train_df)\n",
    "test_df = compute_indicators(test_df)"
   ]
  },
  {
   "cell_type": "markdown",
   "metadata": {},
   "source": [
    "Recherche des paramètres optimaux de la stratégies"
   ]
  },
  {
   "cell_type": "code",
   "execution_count": 12,
   "metadata": {},
   "outputs": [
    {
     "name": "stdout",
     "output_type": "stream",
     "text": [
      "Paramètres optimaux: ema_short=45, ema_long=190\n",
      "Capital final: 8058.249999999993 €\n"
     ]
    }
   ],
   "source": [
    "import numpy as np\n",
    "import pandas as pd\n",
    "import itertools\n",
    "ema_short = 5\n",
    "ema_long = 30\n",
    "# Fonction pour appliquer la stratégie avec les nouvelles conditions\n",
    "def apply_strategy(train_df, ema_short, ema_long):\n",
    "    train_df['ema_short'] = train_df['close'].ewm(span=ema_short).mean()\n",
    "    train_df['ema_long'] = train_df['close'].ewm(span=ema_long).mean()\n",
    "    \n",
    "    train_df['signal'] = 0\n",
    "    train_df.loc[train_df['ema_short'] > train_df['ema_long'], 'signal'] = 1  # Achat\n",
    "    train_df.loc[train_df['ema_short'] < train_df['ema_long'], 'signal'] = -1  # Vente\n",
    "    \n",
    "    # Conditions supplémentaires\n",
    "    train_df.loc[(train_df['signal'] == 1) & (train_df['rsi'] > 70), 'signal'] = 0\n",
    "    train_df.loc[(train_df['signal'] == 1) & (train_df['macd'] < train_df['macd_signal']), 'signal'] = 0\n",
    "    train_df.loc[(train_df['signal'] == 1) & (train_df['volatility_20d'] > train_df['volatility_20d'].quantile(0.9)), 'signal'] = 0\n",
    "    train_df.loc[(train_df['signal'] == 1) & (train_df['roc_5'] < 0), 'signal'] = 0\n",
    "    \n",
    "    return train_df\n",
    "\n",
    "# Fonction de backtest\n",
    "def backtest_strategy(train_df, initial_capital=5000):\n",
    "    capital = initial_capital\n",
    "    position = 0\n",
    "    \n",
    "    for i in range(len(train_df)):\n",
    "        signal = train_df['signal'].iloc[i]\n",
    "        close_price = train_df['close'].iloc[i]\n",
    "        \n",
    "        if signal == 1 and position == 0 and capital >= close_price:\n",
    "            position = 1\n",
    "            capital -= close_price\n",
    "        elif signal == -1 and position == 1:\n",
    "            capital += position * close_price\n",
    "            position = 0\n",
    "    \n",
    "    return capital  # Retourne le capital final\n",
    "\n",
    "# Optimisation des moyennes mobiles\n",
    "ema_short_range = range(5, 50, 5)\n",
    "ema_long_range = range(50, 200, 10)\n",
    "best_params = None\n",
    "best_performance = -np.inf\n",
    "\n",
    "for ema_short, ema_long in itertools.product(ema_short_range, ema_long_range):\n",
    "    if ema_short >= ema_long:\n",
    "        continue  # La MA rapide doit être inférieure à la MA lente\n",
    "    \n",
    "    train_df = apply_strategy(df.copy(), ema_short, ema_long)\n",
    "    final_capital = backtest_strategy(train_df)\n",
    "    \n",
    "    if final_capital > best_performance:\n",
    "        best_performance = final_capital\n",
    "        best_params = (ema_short, ema_long)\n",
    "\n",
    "print(f'Paramètres optimaux: ema_short={best_params[0]}, ema_long={best_params[1]}')\n",
    "print(f'Capital final: {best_performance} €')"
   ]
  },
  {
   "cell_type": "markdown",
   "metadata": {},
   "source": [
    "Export des df's "
   ]
  },
  {
   "cell_type": "code",
   "execution_count": null,
   "metadata": {},
   "outputs": [
    {
     "name": "stdout",
     "output_type": "stream",
     "text": [
      "Fichier exporté avec succès : C:\\Users\\Liam\\Desktop\\Projet crypto\\Data\\df_export.csvdf_export.csv\n"
     ]
    }
   ],
   "source": [
    "# Exporter le DataFrame en CSV avec le nom du fichier ajouté au chemin\n",
    "train_df.to_csv(chemin + \"train_df.csv\", index=False)\n",
    "test_df.to_csv(chemin + \"test_df.csv\", index=False)"
   ]
  }
 ],
 "metadata": {
  "kernelspec": {
   "display_name": "Python 3",
   "language": "python",
   "name": "python3"
  },
  "language_info": {
   "codemirror_mode": {
    "name": "ipython",
    "version": 3
   },
   "file_extension": ".py",
   "mimetype": "text/x-python",
   "name": "python",
   "nbconvert_exporter": "python",
   "pygments_lexer": "ipython3",
   "version": "3.13.0"
  }
 },
 "nbformat": 4,
 "nbformat_minor": 2
}
